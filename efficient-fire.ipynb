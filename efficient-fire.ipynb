{
 "cells": [
  {
   "cell_type": "code",
   "execution_count": 1,
   "id": "a2463fb9",
   "metadata": {},
   "outputs": [
    {
     "name": "stdout",
     "output_type": "stream",
     "text": [
      "Defaulting to user installation because normal site-packages is not writeable\n",
      "Requirement already satisfied: opencv-python in /home/dipen/.local/lib/python3.10/site-packages (4.9.0.80)\n",
      "Requirement already satisfied: numpy>=1.19.3 in /home/dipen/.local/lib/python3.10/site-packages (from opencv-python) (1.26.3)\n",
      "pygame 2.5.2 (SDL 2.28.2, Python 3.10.12)\n",
      "Hello from the pygame community. https://www.pygame.org/contribute.html\n"
     ]
    },
    {
     "name": "stderr",
     "output_type": "stream",
     "text": [
      "2024-02-27 21:45:36.198034: E external/local_xla/xla/stream_executor/cuda/cuda_dnn.cc:9261] Unable to register cuDNN factory: Attempting to register factory for plugin cuDNN when one has already been registered\n",
      "2024-02-27 21:45:36.198072: E external/local_xla/xla/stream_executor/cuda/cuda_fft.cc:607] Unable to register cuFFT factory: Attempting to register factory for plugin cuFFT when one has already been registered\n",
      "2024-02-27 21:45:36.198879: E external/local_xla/xla/stream_executor/cuda/cuda_blas.cc:1515] Unable to register cuBLAS factory: Attempting to register factory for plugin cuBLAS when one has already been registered\n",
      "2024-02-27 21:45:36.204128: I tensorflow/core/platform/cpu_feature_guard.cc:182] This TensorFlow binary is optimized to use available CPU instructions in performance-critical operations.\n",
      "To enable the following instructions: AVX2 FMA, in other operations, rebuild TensorFlow with the appropriate compiler flags.\n",
      "2024-02-27 21:45:36.908818: W tensorflow/compiler/tf2tensorrt/utils/py_utils.cc:38] TF-TRT Warning: Could not find TensorRT\n",
      "/usr/lib/python3/dist-packages/scipy/__init__.py:146: UserWarning: A NumPy version >=1.17.3 and <1.25.0 is required for this version of SciPy (detected version 1.26.3\n",
      "  warnings.warn(f\"A NumPy version >={np_minversion} and <{np_maxversion}\"\n"
     ]
    }
   ],
   "source": [
    "!pip install opencv-python\n",
    "import cv2\n",
    "import time\n",
    "import pygame\n",
    "import numpy as np\n",
    "from tensorflow.keras.models import load_model\n",
    "from keras.preprocessing import image\n",
    "from tensorflow.keras.applications import EfficientNetB0\n",
    "from tensorflow.keras.applications.efficientnet import preprocess_input"
   ]
  },
  {
   "cell_type": "code",
   "execution_count": 2,
   "id": "ef41aa79",
   "metadata": {},
   "outputs": [],
   "source": [
    "alarm_playing = False"
   ]
  },
  {
   "cell_type": "code",
   "execution_count": 3,
   "id": "e575aa1d",
   "metadata": {},
   "outputs": [
    {
     "data": {
      "text/plain": [
       "(5, 0)"
      ]
     },
     "execution_count": 3,
     "metadata": {},
     "output_type": "execute_result"
    }
   ],
   "source": [
    "# Initialize Pygame\n",
    "pygame.mixer.pre_init(44100, -16, 2, 512)\n",
    "pygame.init()"
   ]
  },
  {
   "cell_type": "code",
   "execution_count": 4,
   "id": "fefcbe4e",
   "metadata": {},
   "outputs": [],
   "source": [
    "# Load the EfficientNetB0 model\n",
    "#base_model = EfficientNetB0(weights='imagenet', include_top=False, input_shape=(224, 224, 3))"
   ]
  },
  {
   "cell_type": "code",
   "execution_count": 5,
   "id": "4dd13f78",
   "metadata": {},
   "outputs": [],
   "source": [
    "# Add custom layers for fire detection\n",
    "model = load_model('firemodel(20).h5')"
   ]
  },
  {
   "cell_type": "code",
   "execution_count": 6,
   "id": "c657a96d",
   "metadata": {},
   "outputs": [
    {
     "name": "stdout",
     "output_type": "stream",
     "text": [
      "<keras.src.engine.sequential.Sequential object at 0x7f1a6da83a90>\n"
     ]
    }
   ],
   "source": [
    "print(model)"
   ]
  },
  {
   "cell_type": "code",
   "execution_count": 7,
   "id": "a73af4c3",
   "metadata": {},
   "outputs": [],
   "source": [
    "# Load the alarm sound file\n",
    "alarm_sound = pygame.mixer.Sound(\"Alarm.mp3\")"
   ]
  },
  {
   "cell_type": "code",
   "execution_count": 8,
   "id": "9c95b4da",
   "metadata": {},
   "outputs": [
    {
     "name": "stdout",
     "output_type": "stream",
     "text": [
      "<pygame.mixer.Sound object at 0x7f195c635440>\n"
     ]
    }
   ],
   "source": [
    "print(alarm_sound)"
   ]
  },
  {
   "cell_type": "code",
   "execution_count": 9,
   "id": "faa1e6e6",
   "metadata": {},
   "outputs": [],
   "source": [
    "# Open the camera (0 represents the default camera)\n",
    "cap = cv2.VideoCapture(0)"
   ]
  },
  {
   "cell_type": "code",
   "execution_count": 10,
   "id": "deea30eb",
   "metadata": {},
   "outputs": [],
   "source": [
    "# Define a function for real-time fire detection\n",
    "def detect_fire(frame):\n",
    "    # Preprocess the frame\n",
    "    frame = cv2.resize(frame, (224, 224))\n",
    "    frame = cv2.cvtColor(frame, cv2.COLOR_BGR2RGB)  # Convert BGR to RGB for efficientnet only\n",
    "    frame = image.img_to_array(frame)\n",
    "    frame = np.expand_dims(frame, axis=0)\n",
    "    frame = preprocess_input(frame)\n",
    "\n",
    "    # Use the model for prediction\n",
    "    prediction = model.predict(frame)\n",
    "    \n",
    "    # Assuming binary classification (fire or no fire)\n",
    "    if prediction[0][0] > 0.5:\n",
    "        return True\n",
    "    else:\n",
    "        return False"
   ]
  },
  {
   "cell_type": "code",
   "execution_count": 11,
   "id": "1d397cdf",
   "metadata": {},
   "outputs": [
    {
     "name": "stdout",
     "output_type": "stream",
     "text": [
      "\u001b[33mWARNING: Skipping opencv-python-headless as it is not installed.\u001b[0m\u001b[33m\r\n",
      "\u001b[0m"
     ]
    }
   ],
   "source": [
    "!pip uninstall opencv-python-headless -y "
   ]
  },
  {
   "cell_type": "code",
   "execution_count": 12,
   "id": "a70bb3f0",
   "metadata": {},
   "outputs": [
    {
     "name": "stdout",
     "output_type": "stream",
     "text": [
      "Defaulting to user installation because normal site-packages is not writeable\n",
      "Requirement already satisfied: opencv-python in /home/dipen/.local/lib/python3.10/site-packages (4.9.0.80)\n",
      "Requirement already satisfied: numpy>=1.19.3 in /home/dipen/.local/lib/python3.10/site-packages (from opencv-python) (1.26.3)\n"
     ]
    }
   ],
   "source": [
    "!pip install opencv-python --upgrade"
   ]
  },
  {
   "cell_type": "code",
   "execution_count": null,
   "id": "8eec5919",
   "metadata": {},
   "outputs": [
    {
     "name": "stdout",
     "output_type": "stream",
     "text": [
      "1/1 [==============================] - 1s 913ms/step\n",
      "No Fire!\n"
     ]
    },
    {
     "name": "stderr",
     "output_type": "stream",
     "text": [
      "Warning: Ignoring XDG_SESSION_TYPE=wayland on Gnome. Use QT_QPA_PLATFORM=wayland to run on Wayland anyway.\n"
     ]
    },
    {
     "name": "stdout",
     "output_type": "stream",
     "text": [
      "1/1 [==============================] - 0s 35ms/step\n",
      "No Fire!\n",
      "1/1 [==============================] - 0s 34ms/step\n",
      "No Fire!\n",
      "1/1 [==============================] - 0s 35ms/step\n",
      "No Fire!\n",
      "1/1 [==============================] - 0s 35ms/step\n",
      "No Fire!\n",
      "1/1 [==============================] - 0s 33ms/step\n",
      "No Fire!\n",
      "1/1 [==============================] - 0s 35ms/step\n",
      "No Fire!\n",
      "1/1 [==============================] - 0s 36ms/step\n",
      "Fire detected!\n",
      "1/1 [==============================] - 0s 35ms/step\n",
      "No Fire!\n",
      "1/1 [==============================] - 0s 32ms/step\n",
      "No Fire!\n",
      "1/1 [==============================] - 0s 33ms/step\n",
      "No Fire!\n",
      "1/1 [==============================] - 0s 34ms/step\n",
      "No Fire!\n",
      "1/1 [==============================] - 0s 34ms/step\n",
      "No Fire!\n",
      "1/1 [==============================] - 0s 34ms/step\n",
      "No Fire!\n",
      "1/1 [==============================] - 0s 35ms/step\n",
      "No Fire!\n",
      "1/1 [==============================] - 0s 34ms/step\n",
      "No Fire!\n",
      "1/1 [==============================] - 0s 34ms/step\n",
      "No Fire!\n",
      "1/1 [==============================] - 0s 34ms/step\n",
      "No Fire!\n",
      "1/1 [==============================] - 0s 34ms/step\n",
      "No Fire!\n",
      "1/1 [==============================] - 0s 36ms/step\n",
      "No Fire!\n",
      "1/1 [==============================] - 0s 34ms/step\n",
      "No Fire!\n",
      "1/1 [==============================] - 0s 36ms/step\n",
      "No Fire!\n",
      "1/1 [==============================] - 0s 33ms/step\n",
      "No Fire!\n",
      "1/1 [==============================] - 0s 34ms/step\n",
      "No Fire!\n",
      "1/1 [==============================] - 0s 33ms/step\n",
      "No Fire!\n",
      "1/1 [==============================] - 0s 36ms/step\n",
      "No Fire!\n",
      "1/1 [==============================] - 0s 34ms/step\n",
      "No Fire!\n",
      "1/1 [==============================] - 0s 33ms/step\n",
      "No Fire!\n",
      "1/1 [==============================] - 0s 33ms/step\n",
      "No Fire!\n",
      "1/1 [==============================] - 0s 34ms/step\n",
      "No Fire!\n",
      "1/1 [==============================] - 0s 33ms/step\n",
      "No Fire!\n",
      "1/1 [==============================] - 0s 35ms/step\n",
      "No Fire!\n",
      "1/1 [==============================] - 0s 34ms/step\n",
      "No Fire!\n",
      "1/1 [==============================] - 0s 33ms/step\n",
      "No Fire!\n",
      "1/1 [==============================] - 0s 34ms/step\n",
      "No Fire!\n",
      "1/1 [==============================] - 0s 34ms/step\n",
      "No Fire!\n",
      "1/1 [==============================] - 0s 35ms/step\n",
      "No Fire!\n",
      "1/1 [==============================] - 0s 34ms/step\n",
      "No Fire!\n",
      "1/1 [==============================] - 0s 32ms/step\n",
      "No Fire!\n",
      "1/1 [==============================] - 0s 34ms/step\n",
      "No Fire!\n",
      "1/1 [==============================] - 0s 34ms/step\n",
      "No Fire!\n",
      "1/1 [==============================] - 0s 34ms/step\n",
      "No Fire!\n",
      "1/1 [==============================] - 0s 36ms/step\n",
      "No Fire!\n",
      "1/1 [==============================] - 0s 33ms/step\n",
      "No Fire!\n",
      "1/1 [==============================] - 0s 36ms/step\n",
      "No Fire!\n",
      "1/1 [==============================] - 0s 33ms/step\n",
      "No Fire!\n",
      "1/1 [==============================] - 0s 34ms/step\n",
      "No Fire!\n",
      "1/1 [==============================] - 0s 34ms/step\n",
      "No Fire!\n",
      "1/1 [==============================] - 0s 34ms/step\n",
      "No Fire!\n",
      "1/1 [==============================] - 0s 34ms/step\n",
      "No Fire!\n",
      "1/1 [==============================] - 0s 34ms/step\n",
      "Fire detected!\n",
      "1/1 [==============================] - 0s 34ms/step\n",
      "Fire detected!\n",
      "1/1 [==============================] - 0s 33ms/step\n",
      "Fire detected!\n",
      "1/1 [==============================] - 0s 33ms/step\n",
      "Fire detected!\n",
      "1/1 [==============================] - 0s 34ms/step\n"
     ]
    }
   ],
   "source": [
    "while True:\n",
    "    # Read a frame from the camera\n",
    "    ret, frame = cap.read()\n",
    "\n",
    "    # Perform fire detection\n",
    "    is_fire = detect_fire(frame)\n",
    "    \n",
    "    # Display the original frame\n",
    "    cv2.imshow('Fire Detection', frame)\n",
    "\n",
    "    #If the prediction indicates fire\n",
    "    if is_fire:\n",
    "        print(\"Fire detected!\")\n",
    "        pygame.mixer.Channel(0).play(alarm_sound, loops=-1)\n",
    "        alarm_playing = True\n",
    "        start_time = time.time()  # Record the start time\n",
    "    \n",
    "    elif not is_fire:\n",
    "        print(\"No Fire!\")\n",
    "        pygame.mixer.Channel(0).stop()\n",
    "        alarm_playing = False\n",
    "    \n",
    "    # Check if the alarm has been playing for more than 11 seconds\n",
    "    if alarm_playing and (time.time() - start_time > 11):\n",
    "        pygame.mixer.Channel(0).stop()\n",
    "        alarm_playing = False\n",
    "\n",
    "    # Break the loop if 'q' key is pressed\n",
    "    if cv2.waitKey(500) & 0xFF == ord('q'):\n",
    "        break\n",
    "\n",
    "# Release the camera and close all windows\n",
    "cap.release()\n",
    "cv2.destroyAllWindows()"
   ]
  },
  {
   "cell_type": "code",
   "execution_count": null,
   "id": "d4b5b8b7",
   "metadata": {},
   "outputs": [],
   "source": []
  }
 ],
 "metadata": {
  "kernelspec": {
   "display_name": "Python 3 (ipykernel)",
   "language": "python",
   "name": "python3"
  },
  "language_info": {
   "codemirror_mode": {
    "name": "ipython",
    "version": 3
   },
   "file_extension": ".py",
   "mimetype": "text/x-python",
   "name": "python",
   "nbconvert_exporter": "python",
   "pygments_lexer": "ipython3",
   "version": "3.10.12"
  }
 },
 "nbformat": 4,
 "nbformat_minor": 5
}
