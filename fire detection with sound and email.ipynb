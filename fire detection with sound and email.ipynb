{
 "cells": [
  {
   "cell_type": "code",
   "execution_count": null,
   "id": "d65301e6",
   "metadata": {},
   "outputs": [],
   "source": [
    "import cv2\n",
    "import numpy as np\n",
    "import time\n",
    "import pygame\n",
    "import smtplib\n",
    "from tensorflow.keras.models import load_model\n",
    "from keras.preprocessing import image\n",
    "from tensorflow.keras.applications.resnet50 import preprocess_input\n",
    "#from tensorflow.keras.applications import EfficientNetB0\n",
    "#from tensorflow.keras.applications.efficientnet import preprocess_input"
   ]
  },
  {
   "cell_type": "code",
   "execution_count": null,
   "id": "fdc3043b",
   "metadata": {},
   "outputs": [],
   "source": [
    "Alarm_Status = False\n",
    "Email_Status = False"
   ]
  },
  {
   "cell_type": "code",
   "execution_count": null,
   "id": "8933d980",
   "metadata": {},
   "outputs": [],
   "source": [
    "# Initialize Pygame\n",
    "pygame.mixer.pre_init(44100, -16, 2, 512)\n",
    "pygame.init()"
   ]
  },
  {
   "cell_type": "code",
   "execution_count": null,
   "id": "516ff0ea",
   "metadata": {},
   "outputs": [],
   "source": [
    "# Add custom layers for fire detection\n",
    "model = load_model('resnetmodel.h5')"
   ]
  },
  {
   "cell_type": "code",
   "execution_count": null,
   "id": "e0526f5a",
   "metadata": {},
   "outputs": [],
   "source": [
    "# Load the alarm sound file\n",
    "alarm_sound = pygame.mixer.Sound(\"Alarm.mp3\")"
   ]
  },
  {
   "cell_type": "code",
   "execution_count": null,
   "id": "68faf464",
   "metadata": {},
   "outputs": [],
   "source": [
    "#connection established for mail\n",
    "conn=smtplib.SMTP('smtp.gmail.com',587)"
   ]
  },
  {
   "cell_type": "code",
   "execution_count": null,
   "id": "3afd0bea",
   "metadata": {},
   "outputs": [],
   "source": [
    "type(conn)"
   ]
  },
  {
   "cell_type": "code",
   "execution_count": null,
   "id": "64088e99",
   "metadata": {},
   "outputs": [],
   "source": [
    "conn.ehlo()\n",
    "conn.starttls()"
   ]
  },
  {
   "cell_type": "code",
   "execution_count": null,
   "id": "2208a1ac",
   "metadata": {},
   "outputs": [],
   "source": [
    "#login for admin\n",
    "conn.login('dipenthapachhetri10@gmail.com','wmgv gyii wghb wbup')"
   ]
  },
  {
   "cell_type": "code",
   "execution_count": null,
   "id": "561bde20",
   "metadata": {},
   "outputs": [],
   "source": [
    "# Open the camera (0 represents the default camera)\n",
    "cap = cv2.VideoCapture(0)"
   ]
  },
  {
   "cell_type": "code",
   "execution_count": null,
   "id": "acf520c3",
   "metadata": {},
   "outputs": [],
   "source": [
    "# Define a function for real-time fire detection\n",
    "def detect_fire(frame):\n",
    "    # Preprocess the frame\n",
    "    frame = cv2.resize(frame, (224, 224))\n",
    "    #frame = cv2.cvtColor(frame, cv2.COLOR_BGR2RGB)  # Convert BGR to RGB for efficientnet only\n",
    "    frame = image.img_to_array(frame)\n",
    "    frame = np.expand_dims(frame, axis=0)\n",
    "    frame = preprocess_input(frame)\n",
    "\n",
    "    # Use the model for prediction\n",
    "    prediction = model.predict(frame)\n",
    "    \n",
    "    # Assuming binary classification (fire or no fire)\n",
    "    if prediction[0][0] > 0.5:\n",
    "        return True\n",
    "    else:\n",
    "        return False\n"
   ]
  },
  {
   "cell_type": "code",
   "execution_count": null,
   "id": "f8d12c61",
   "metadata": {},
   "outputs": [],
   "source": [
    "while True:\n",
    "    # Read a frame from the camera\n",
    "    ret, frame = cap.read()\n",
    "\n",
    "    # Perform fire detection\n",
    "    is_fire = detect_fire(frame)\n",
    "\n",
    "    # Display the original frame\n",
    "    cv2.imshow('Fire Detection', frame)\n",
    "\n",
    "    # If the prediction indicates fire\n",
    "    if is_fire:\n",
    "        print(\"Fire detected!\")\n",
    "        pygame.mixer.Channel(0).play(alarm_sound, loops=-1)\n",
    "        alarm_playing = True\n",
    "        start_time = time.time()  # Record the start time\n",
    "        email_sending = True\n",
    "        conn.sendmail('dipenthapachhetri10@gmail.com','chhanprakash@gmail.com','Subject: ALERT!!!!!!! \\n \\n  There is huge fire.')\n",
    "    \n",
    "    elif not is_fire:\n",
    "        print(\"No fire\")\n",
    "        pygame.mixer.Channel(0).stop()\n",
    "        alarm_playing = False\n",
    "        email_sending = False\n",
    "\n",
    "        \n",
    "     # Check if the alarm has been playing for more than 11 seconds\n",
    "    if alarm_playing and (time.time() - start_time > 11):\n",
    "        pygame.mixer.Channel(0).stop()\n",
    "        alarm_playing = False\n",
    "        email_sending = False\n",
    "    \n",
    "    # Break the loop if 'q' key is pressed\n",
    "    if cv2.waitKey(1) & 0xFF == ord('q'):\n",
    "        break\n",
    "\n",
    "# Release the camera and close all windows\n",
    "cap.release()\n",
    "cv2.destroyAllWindows()\n"
   ]
  },
  {
   "cell_type": "code",
   "execution_count": null,
   "id": "ffe6889c",
   "metadata": {},
   "outputs": [],
   "source": []
  },
  {
   "cell_type": "code",
   "execution_count": null,
   "id": "2853142c",
   "metadata": {},
   "outputs": [],
   "source": []
  }
 ],
 "metadata": {
  "kernelspec": {
   "display_name": "Python 3 (ipykernel)",
   "language": "python",
   "name": "python3"
  },
  "language_info": {
   "codemirror_mode": {
    "name": "ipython",
    "version": 3
   },
   "file_extension": ".py",
   "mimetype": "text/x-python",
   "name": "python",
   "nbconvert_exporter": "python",
   "pygments_lexer": "ipython3",
   "version": "3.10.12"
  }
 },
 "nbformat": 4,
 "nbformat_minor": 5
}
